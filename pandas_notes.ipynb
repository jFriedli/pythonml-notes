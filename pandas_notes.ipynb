{
 "cells": [
  {
   "cell_type": "code",
   "execution_count": 3,
   "metadata": {},
   "outputs": [],
   "source": [
    "import numpy as np\n",
    "import pandas as pd\n",
    "from numpy.random import randn"
   ]
  },
  {
   "cell_type": "code",
   "execution_count": 14,
   "metadata": {},
   "outputs": [
    {
     "name": "stdout",
     "output_type": "stream",
     "text": [
      "0    10\n",
      "1    20\n",
      "2    30\n",
      "dtype: int64\n",
      "a    10\n",
      "b    20\n",
      "c    30\n",
      "dtype: int64\n",
      "a    10\n",
      "b    20\n",
      "c    30\n",
      "dtype: int64\n"
     ]
    }
   ],
   "source": [
    "#pandas series\n",
    "labels = ['a', 'b', 'c']\n",
    "my_data = [10,20,30]\n",
    "arr = np.array(my_data)\n",
    "d = {'a':10,'b':20,'c':30}\n",
    "\n",
    "print(pd.Series(data = arr))\n",
    "print(pd.Series(data = my_data, index=labels))\n",
    "print(pd.Series(d))"
   ]
  },
  {
   "cell_type": "code",
   "execution_count": 9,
   "metadata": {},
   "outputs": [
    {
     "name": "stdout",
     "output_type": "stream",
     "text": [
      "0      <built-in function sum>\n",
      "1    <built-in function print>\n",
      "2      <built-in function len>\n",
      "dtype: object\n"
     ]
    }
   ],
   "source": [
    "#pandas series can hold functions\n",
    "print(pd.Series(data=[sum,print,len]))"
   ]
  },
  {
   "cell_type": "code",
   "execution_count": 21,
   "metadata": {},
   "outputs": [
    {
     "name": "stdout",
     "output_type": "stream",
     "text": [
      "Austria        NaN\n",
      "China          NaN\n",
      "Italy          8.0\n",
      "Switzerland    4.0\n",
      "USA            2.0\n",
      "dtype: float64\n"
     ]
    }
   ],
   "source": [
    "#series operations try to match by index. If nothing found, the result is NaN\n",
    "ser1 = pd.Series([1,2,3,4], [\"USA\", \"Switzerland\", \"Austria\", \"Italy\"])\n",
    "ser2 = pd.Series([1,2,3,4], [\"USA\", \"Switzerland\", \"China\", \"Italy\"])\n",
    "print(ser1+ser2)"
   ]
  },
  {
   "cell_type": "code",
   "execution_count": 42,
   "metadata": {},
   "outputs": [
    {
     "name": "stdout",
     "output_type": "stream",
     "text": [
      "<class 'pandas.core.frame.DataFrame'>\n",
      "          w         x         y         z\n",
      "a  2.706850  0.628133  0.907969  0.503826\n",
      "b  0.651118 -0.319318 -0.848077  0.605965\n",
      "c -2.018168  0.740122  0.528813 -0.589001\n",
      "d  0.188695 -0.758872 -0.933237  0.955057\n",
      "e  0.190794  1.978757  2.605967  0.683509\n",
      "<class 'pandas.core.series.Series'>\n",
      "a    2.706850\n",
      "b    0.651118\n",
      "c   -2.018168\n",
      "d    0.188695\n",
      "e    0.190794\n",
      "Name: w, dtype: float64\n",
      "<class 'pandas.core.frame.DataFrame'>\n",
      "          w         z\n",
      "a  2.706850  0.503826\n",
      "b  0.651118  0.605965\n",
      "c -2.018168 -0.589001\n",
      "d  0.188695  0.955057\n",
      "e  0.190794  0.683509\n",
      "<class 'pandas.core.series.Series'>\n",
      "w   -2.018168\n",
      "x    0.740122\n",
      "y    0.528813\n",
      "z   -0.589001\n",
      "Name: c, dtype: float64\n",
      "-0.8480769834036315\n",
      "          w         y\n",
      "a  2.706850  0.907969\n",
      "b  0.651118 -0.848077\n"
     ]
    }
   ],
   "source": [
    "#data frames\n",
    "np.random.seed(101)\n",
    "\n",
    "df = pd.DataFrame(randn(5,4), ['a','b','c','d','e'], ['w','x','y','z'])\n",
    "print(type(df))\n",
    "print(df)\n",
    "\n",
    "#is a series\n",
    "print(type(df['w']))\n",
    "print(df['w'])\n",
    "\n",
    "#is a data frame\n",
    "print(type(df[['w', 'z']]))\n",
    "print(df[['w', 'z']])\n",
    "\n",
    "#is a series\n",
    "print(type(df.loc['c']))\n",
    "print(df.loc['c']) #numerical index: df.iloc[2]\n",
    "\n",
    "print(df.loc['b','y'])\n",
    "\n",
    "#subset\n",
    "print(df.loc[['a','b'],['w','y']])\n"
   ]
  },
  {
   "cell_type": "code",
   "execution_count": 37,
   "metadata": {},
   "outputs": [
    {
     "name": "stdout",
     "output_type": "stream",
     "text": [
      "          w         x         y         z       new\n",
      "a  0.327845  0.674485 -0.174057  0.780140  0.153788\n",
      "b -0.383258 -0.409318  0.343539  0.196275 -0.039719\n",
      "c -0.982776  2.231555 -0.971393 -1.522333 -1.954169\n",
      "d  1.133703  0.528187  0.393461 -0.630507  1.527164\n",
      "e -1.398290 -0.219311 -0.045676  0.012421 -1.443966\n",
      "          w         x         y         z\n",
      "a  0.327845  0.674485 -0.174057  0.780140\n",
      "b -0.383258 -0.409318  0.343539  0.196275\n",
      "c -0.982776  2.231555 -0.971393 -1.522333\n",
      "d  1.133703  0.528187  0.393461 -0.630507\n",
      "e -1.398290 -0.219311 -0.045676  0.012421\n"
     ]
    }
   ],
   "source": [
    "#data frames arithmics\n",
    "\n",
    "df = pd.DataFrame(randn(5,4), ['a','b','c','d','e'], ['w','x','y','z'])\n",
    "\n",
    "df['new'] = df['w'] + df['y']\n",
    "print(df)\n",
    "\n",
    "#axis 1 specifies that it is a column, inplace needs to be true to commit change\n",
    "df.drop('new', axis=1, inplace=True)\n",
    "print(df)"
   ]
  },
  {
   "cell_type": "code",
   "execution_count": 4,
   "metadata": {},
   "outputs": [
    {
     "data": {
      "text/html": [
       "<div>\n",
       "<style scoped>\n",
       "    .dataframe tbody tr th:only-of-type {\n",
       "        vertical-align: middle;\n",
       "    }\n",
       "\n",
       "    .dataframe tbody tr th {\n",
       "        vertical-align: top;\n",
       "    }\n",
       "\n",
       "    .dataframe thead th {\n",
       "        text-align: right;\n",
       "    }\n",
       "</style>\n",
       "<table border=\"1\" class=\"dataframe\">\n",
       "  <thead>\n",
       "    <tr style=\"text-align: right;\">\n",
       "      <th></th>\n",
       "      <th>w</th>\n",
       "      <th>x</th>\n",
       "      <th>y</th>\n",
       "      <th>z</th>\n",
       "    </tr>\n",
       "  </thead>\n",
       "  <tbody>\n",
       "    <tr>\n",
       "      <th>a</th>\n",
       "      <td>1.031148</td>\n",
       "      <td>0.528287</td>\n",
       "      <td>0.546615</td>\n",
       "      <td>NaN</td>\n",
       "    </tr>\n",
       "    <tr>\n",
       "      <th>b</th>\n",
       "      <td>NaN</td>\n",
       "      <td>NaN</td>\n",
       "      <td>0.756883</td>\n",
       "      <td>0.367183</td>\n",
       "    </tr>\n",
       "    <tr>\n",
       "      <th>c</th>\n",
       "      <td>NaN</td>\n",
       "      <td>NaN</td>\n",
       "      <td>NaN</td>\n",
       "      <td>1.642448</td>\n",
       "    </tr>\n",
       "    <tr>\n",
       "      <th>d</th>\n",
       "      <td>0.461641</td>\n",
       "      <td>NaN</td>\n",
       "      <td>0.721089</td>\n",
       "      <td>0.721953</td>\n",
       "    </tr>\n",
       "    <tr>\n",
       "      <th>e</th>\n",
       "      <td>0.652880</td>\n",
       "      <td>0.074263</td>\n",
       "      <td>NaN</td>\n",
       "      <td>0.653344</td>\n",
       "    </tr>\n",
       "  </tbody>\n",
       "</table>\n",
       "</div>"
      ],
      "text/plain": [
       "          w         x         y         z\n",
       "a  1.031148  0.528287  0.546615       NaN\n",
       "b       NaN       NaN  0.756883  0.367183\n",
       "c       NaN       NaN       NaN  1.642448\n",
       "d  0.461641       NaN  0.721089  0.721953\n",
       "e  0.652880  0.074263       NaN  0.653344"
      ]
     },
     "execution_count": 4,
     "metadata": {},
     "output_type": "execute_result"
    }
   ],
   "source": [
    "#data frames conditional selection\n",
    "df = pd.DataFrame(randn(5,4), ['a','b','c','d','e'], ['w','x','y','z'])\n",
    "\n",
    "df[df>0]"
   ]
  },
  {
   "cell_type": "code",
   "execution_count": 49,
   "metadata": {},
   "outputs": [
    {
     "data": {
      "text/html": [
       "<div>\n",
       "<style scoped>\n",
       "    .dataframe tbody tr th:only-of-type {\n",
       "        vertical-align: middle;\n",
       "    }\n",
       "\n",
       "    .dataframe tbody tr th {\n",
       "        vertical-align: top;\n",
       "    }\n",
       "\n",
       "    .dataframe thead th {\n",
       "        text-align: right;\n",
       "    }\n",
       "</style>\n",
       "<table border=\"1\" class=\"dataframe\">\n",
       "  <thead>\n",
       "    <tr style=\"text-align: right;\">\n",
       "      <th></th>\n",
       "      <th>w</th>\n",
       "      <th>x</th>\n",
       "      <th>y</th>\n",
       "      <th>z</th>\n",
       "    </tr>\n",
       "  </thead>\n",
       "  <tbody>\n",
       "    <tr>\n",
       "      <th>b</th>\n",
       "      <td>0.392489</td>\n",
       "      <td>0.221491</td>\n",
       "      <td>-0.855196</td>\n",
       "      <td>1.541990</td>\n",
       "    </tr>\n",
       "    <tr>\n",
       "      <th>c</th>\n",
       "      <td>0.666319</td>\n",
       "      <td>-0.538235</td>\n",
       "      <td>-0.568581</td>\n",
       "      <td>1.407338</td>\n",
       "    </tr>\n",
       "    <tr>\n",
       "      <th>d</th>\n",
       "      <td>0.641806</td>\n",
       "      <td>-0.905100</td>\n",
       "      <td>-0.391157</td>\n",
       "      <td>1.028293</td>\n",
       "    </tr>\n",
       "  </tbody>\n",
       "</table>\n",
       "</div>"
      ],
      "text/plain": [
       "          w         x         y         z\n",
       "b  0.392489  0.221491 -0.855196  1.541990\n",
       "c  0.666319 -0.538235 -0.568581  1.407338\n",
       "d  0.641806 -0.905100 -0.391157  1.028293"
      ]
     },
     "execution_count": 49,
     "metadata": {},
     "output_type": "execute_result"
    }
   ],
   "source": [
    "#get all rows where the 'w' value is higher than 0\n",
    "df[df['w']>0]"
   ]
  },
  {
   "cell_type": "code",
   "execution_count": 5,
   "metadata": {},
   "outputs": [
    {
     "name": "stdout",
     "output_type": "stream",
     "text": [
      "Empty DataFrame\n",
      "Columns: [w, x, y, z]\n",
      "Index: []\n",
      "          w         x         y         z\n",
      "a  1.031148  0.528287  0.546615 -0.295531\n",
      "d  0.461641 -1.285897  0.721089  0.721953\n",
      "e  0.652880  0.074263 -0.535413  0.653344\n"
     ]
    }
   ],
   "source": [
    "#multiple conditions\n",
    "print(df[(df['w']>0) & (df['y']>1)])\n",
    "print(df[(df['w']>0) | (df['y']>1)])"
   ]
  },
  {
   "cell_type": "code",
   "execution_count": 6,
   "metadata": {},
   "outputs": [
    {
     "name": "stdout",
     "output_type": "stream",
     "text": [
      "  index         w         x         y         z\n",
      "0     a  1.031148  0.528287  0.546615 -0.295531\n",
      "1     b -0.176585 -0.481808  0.756883  0.367183\n",
      "2     c -0.892526 -0.836284 -0.166963  1.642448\n",
      "3     d  0.461641 -1.285897  0.721089  0.721953\n",
      "4     e  0.652880  0.074263 -0.535413  0.653344\n"
     ]
    }
   ],
   "source": [
    "print(df.reset_index())"
   ]
  },
  {
   "cell_type": "code",
   "execution_count": 13,
   "metadata": {},
   "outputs": [
    {
     "name": "stdout",
     "output_type": "stream",
     "text": [
      "          w         x         y         z States\n",
      "a  1.031148  0.528287  0.546615 -0.295531     CA\n",
      "b -0.176585 -0.481808  0.756883  0.367183     NY\n",
      "c -0.892526 -0.836284 -0.166963  1.642448     WY\n",
      "d  0.461641 -1.285897  0.721089  0.721953     OR\n",
      "e  0.652880  0.074263 -0.535413  0.653344     CO\n",
      "               w         x         y         z\n",
      "States                                        \n",
      "CA      1.031148  0.528287  0.546615 -0.295531\n",
      "NY     -0.176585 -0.481808  0.756883  0.367183\n",
      "WY     -0.892526 -0.836284 -0.166963  1.642448\n",
      "OR      0.461641 -1.285897  0.721089  0.721953\n",
      "CO      0.652880  0.074263 -0.535413  0.653344\n"
     ]
    }
   ],
   "source": [
    "#easy way to creat list of strings\n",
    "newindex = 'CA NY WY OR CO'.split()\n",
    "df['States'] = newindex\n",
    "print(df)\n",
    "\n",
    "#use a column as index\n",
    "df.set_index('States', inplace=True)\n",
    "print(df)"
   ]
  },
  {
   "cell_type": "code",
   "execution_count": 36,
   "metadata": {},
   "outputs": [
    {
     "name": "stdout",
     "output_type": "stream",
     "text": [
      "[('G1', 1), ('G1', 2), ('G1', 3), ('G2', 1), ('G2', 2), ('G2', 3)]\n",
      "MultiIndex(levels=[['G1', 'G2'], [1, 2, 3]],\n",
      "           labels=[[0, 0, 0, 1, 1, 1], [0, 1, 2, 0, 1, 2]])\n",
      "[None, None]\n",
      "                   A         B\n",
      "Groups Num                    \n",
      "G1     1   -1.156879 -1.238605\n",
      "       2    1.240360 -0.740806\n",
      "       3   -0.739626  1.370726\n",
      "G2     1   -0.037048  1.095348\n",
      "       2   -1.810007  1.562352\n",
      "       3    1.210115 -0.398775\n",
      "1.5623521867764496\n"
     ]
    }
   ],
   "source": [
    "#index levels\n",
    "outside = ['G1','G1','G1','G2','G2','G2']\n",
    "inside = [1,2,3,1,2,3]\n",
    "\n",
    "#create tuple \n",
    "hier_index = list(zip(outside,inside))\n",
    "print(hier_index)\n",
    "\n",
    "#define index from tuple\n",
    "hier_index = pd.MultiIndex.from_tuples(hier_index)\n",
    "print(hier_index)\n",
    "\n",
    "#multi index list\n",
    "df = pd.DataFrame(np.random.randn(6,2),index=hier_index,columns=['A','B'])\n",
    "\n",
    "#rename index\n",
    "print(df.index.names)\n",
    "df.index.names = 'Groups Num'.split()\n",
    "\n",
    "print(df)\n",
    "\n",
    "#select element\n",
    "print(df.loc['G2'].loc[2]['B'])"
   ]
  },
  {
   "cell_type": "code",
   "execution_count": 38,
   "metadata": {},
   "outputs": [
    {
     "data": {
      "text/html": [
       "<div>\n",
       "<style scoped>\n",
       "    .dataframe tbody tr th:only-of-type {\n",
       "        vertical-align: middle;\n",
       "    }\n",
       "\n",
       "    .dataframe tbody tr th {\n",
       "        vertical-align: top;\n",
       "    }\n",
       "\n",
       "    .dataframe thead th {\n",
       "        text-align: right;\n",
       "    }\n",
       "</style>\n",
       "<table border=\"1\" class=\"dataframe\">\n",
       "  <thead>\n",
       "    <tr style=\"text-align: right;\">\n",
       "      <th></th>\n",
       "      <th>A</th>\n",
       "      <th>B</th>\n",
       "    </tr>\n",
       "    <tr>\n",
       "      <th>Groups</th>\n",
       "      <th></th>\n",
       "      <th></th>\n",
       "    </tr>\n",
       "  </thead>\n",
       "  <tbody>\n",
       "    <tr>\n",
       "      <th>G1</th>\n",
       "      <td>-1.156879</td>\n",
       "      <td>-1.238605</td>\n",
       "    </tr>\n",
       "    <tr>\n",
       "      <th>G2</th>\n",
       "      <td>-0.037048</td>\n",
       "      <td>1.095348</td>\n",
       "    </tr>\n",
       "  </tbody>\n",
       "</table>\n",
       "</div>"
      ],
      "text/plain": [
       "               A         B\n",
       "Groups                    \n",
       "G1     -1.156879 -1.238605\n",
       "G2     -0.037048  1.095348"
      ]
     },
     "execution_count": 38,
     "metadata": {},
     "output_type": "execute_result"
    }
   ],
   "source": [
    "#cross section\n",
    "\n",
    "#get all items from level 'Num' that have the value 1 in each 'Groups' level\n",
    "df.xs(1,level='Num')"
   ]
  },
  {
   "cell_type": "code",
   "execution_count": null,
   "metadata": {},
   "outputs": [],
   "source": []
  }
 ],
 "metadata": {
  "kernelspec": {
   "display_name": "Python 3",
   "language": "python",
   "name": "python3"
  },
  "language_info": {
   "codemirror_mode": {
    "name": "ipython",
    "version": 3
   },
   "file_extension": ".py",
   "mimetype": "text/x-python",
   "name": "python",
   "nbconvert_exporter": "python",
   "pygments_lexer": "ipython3",
   "version": "3.7.1"
  }
 },
 "nbformat": 4,
 "nbformat_minor": 2
}
